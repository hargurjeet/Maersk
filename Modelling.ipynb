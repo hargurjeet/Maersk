{
  "nbformat": 4,
  "nbformat_minor": 0,
  "metadata": {
    "colab": {
      "provenance": [],
      "authorship_tag": "ABX9TyN9DOLOw0tWhxPW2t+je40/",
      "include_colab_link": true
    },
    "kernelspec": {
      "name": "python3",
      "display_name": "Python 3"
    },
    "language_info": {
      "name": "python"
    }
  },
  "cells": [
    {
      "cell_type": "markdown",
      "metadata": {
        "id": "view-in-github",
        "colab_type": "text"
      },
      "source": [
        "<a href=\"https://colab.research.google.com/github/hargurjeet/Maersk/blob/main/Modelling.ipynb\" target=\"_parent\"><img src=\"https://colab.research.google.com/assets/colab-badge.svg\" alt=\"Open In Colab\"/></a>"
      ]
    },
    {
      "cell_type": "code",
      "execution_count": 1,
      "metadata": {
        "colab": {
          "base_uri": "https://localhost:8080/"
        },
        "id": "DM3Ck8VS2xq3",
        "outputId": "84625453-9d47-4e57-c49e-353db1a7d403"
      },
      "outputs": [
        {
          "output_type": "stream",
          "name": "stdout",
          "text": [
            "\u001b[2K     \u001b[90m━━━━━━━━━━━━━━━━━━━━━━━━━━━━━━━━━━━━━━━━\u001b[0m \u001b[32m207.3/207.3 kB\u001b[0m \u001b[31m2.1 MB/s\u001b[0m eta \u001b[36m0:00:00\u001b[0m\n",
            "\u001b[2K     \u001b[90m━━━━━━━━━━━━━━━━━━━━━━━━━━━━━━━━━━━━━━━━\u001b[0m \u001b[32m62.7/62.7 kB\u001b[0m \u001b[31m6.1 MB/s\u001b[0m eta \u001b[36m0:00:00\u001b[0m\n",
            "\u001b[?25h"
          ]
        }
      ],
      "source": [
        "!pip install -q gitpython"
      ]
    },
    {
      "cell_type": "code",
      "source": [
        "## Python Imports\n",
        "import pandas as pd\n",
        "import numpy as np\n",
        "from git import Repo\n",
        "import os\n",
        "import matplotlib.pyplot as plt\n",
        "import seaborn as sns"
      ],
      "metadata": {
        "id": "evlCY0o83wFS"
      },
      "execution_count": 2,
      "outputs": []
    },
    {
      "cell_type": "code",
      "source": [
        "# Clone the GitHub repository\n",
        "repo_url = 'https://github.com/hargurjeet/Maersk'\n",
        "repo_dir = 'Maersk'\n",
        "Repo.clone_from(repo_url, repo_dir)"
      ],
      "metadata": {
        "colab": {
          "base_uri": "https://localhost:8080/"
        },
        "id": "GgVuOVKR33qQ",
        "outputId": "a8110f45-6e78-4e40-d6fe-9aa9875a53db"
      },
      "execution_count": 3,
      "outputs": [
        {
          "output_type": "execute_result",
          "data": {
            "text/plain": [
              "<git.repo.base.Repo '/content/Maersk/.git'>"
            ]
          },
          "metadata": {},
          "execution_count": 3
        }
      ]
    },
    {
      "cell_type": "code",
      "source": [
        "file_path  = \"/content/Maersk/vessel_data.csv\"\n",
        "date_cols = ['arrival_date', 'departure_date',\n",
        "             'arrival_time', 'departure_time', 'prev_arrival_time', 'prev_departure_time', 'next_arrival_time']\n",
        "dtypes = {\n",
        "    'imo' : 'object',\n",
        "    'arrival_time':'datetime64[ns, UTC]',\n",
        "    'departure_time':'datetime64[ns, UTC]',\n",
        "    'prev_departure_time':'datetime64[ns, UTC]',\n",
        "    'prev_arrival_time':'datetime64[ns, UTC]',\n",
        "    'next_arrival_time':'datetime64[ns, UTC]'\n",
        "\n",
        "}\n",
        "\n",
        "\n",
        "vessel_data = pd.read_csv(file_path, parse_dates=date_cols,dtype = dtypes)\n",
        "pd.set_option('display.max_columns', None)\n",
        "vessel_data.head(2)"
      ],
      "metadata": {
        "id": "T_FrQSjG33jv"
      },
      "execution_count": null,
      "outputs": []
    },
    {
      "cell_type": "code",
      "source": [
        "vessel_data.info()"
      ],
      "metadata": {
        "colab": {
          "base_uri": "https://localhost:8080/"
        },
        "id": "ixIceNJp33fi",
        "outputId": "8dbfe351-1eb2-4c35-dc76-7d679a0f6fc2"
      },
      "execution_count": 7,
      "outputs": [
        {
          "output_type": "stream",
          "name": "stdout",
          "text": [
            "<class 'pandas.core.frame.DataFrame'>\n",
            "RangeIndex: 494042 entries, 0 to 494041\n",
            "Data columns (total 35 columns):\n",
            " #   Column                        Non-Null Count   Dtype         \n",
            "---  ------                        --------------   -----         \n",
            " 0   Unnamed: 0                    494042 non-null  int64         \n",
            " 1   call_id                       494042 non-null  object        \n",
            " 2   arrival_date                  494042 non-null  datetime64[ns]\n",
            " 3   departure_date                494042 non-null  datetime64[ns]\n",
            " 4   arrival_time                  494042 non-null  object        \n",
            " 5   departure_time                494042 non-null  object        \n",
            " 6   imo                           494042 non-null  object        \n",
            " 7   vessel_name_ais               494042 non-null  object        \n",
            " 8   vessel_type_ais               494039 non-null  object        \n",
            " 9   Country                       494042 non-null  object        \n",
            " 10  CountryCode                   493669 non-null  object        \n",
            " 11  Port                          494042 non-null  object        \n",
            " 12  Terminal                      494042 non-null  object        \n",
            " 13  Duration                      494042 non-null  float64       \n",
            " 14  Service_name                  493895 non-null  object        \n",
            " 15  length                        494042 non-null  float64       \n",
            " 16  prev_departure_time           494042 non-null  object        \n",
            " 17  vesteu                        494042 non-null  int64         \n",
            " 18  prev_port                     494038 non-null  object        \n",
            " 19  prev_arrival_time             494038 non-null  object        \n",
            " 20  prev_duration                 494038 non-null  float64       \n",
            " 21  prev_leg_duration             494042 non-null  float64       \n",
            " 22  prev_leg_distance_nm          494042 non-null  float64       \n",
            " 23  prev_leg_stationary_hours     494042 non-null  int64         \n",
            " 24  prev_call_id                  494038 non-null  object        \n",
            " 25  next_port                     494042 non-null  object        \n",
            " 26  next_arrival_time             494042 non-null  object        \n",
            " 27  next_duration                 494042 non-null  float64       \n",
            " 28  next_leg_duration             494042 non-null  float64       \n",
            " 29  next_leg_distance_nm          494042 non-null  float64       \n",
            " 30  next_leg_stationary_hours     494042 non-null  float64       \n",
            " 31  next_call_id                  494042 non-null  object        \n",
            " 32  total_duration_shipment       494042 non-null  float64       \n",
            " 33  total_duration_shipment_days  494042 non-null  float64       \n",
            " 34  total_distance_shipment       494042 non-null  float64       \n",
            "dtypes: datetime64[ns](2), float64(12), int64(3), object(18)\n",
            "memory usage: 131.9+ MB\n"
          ]
        }
      ]
    },
    {
      "cell_type": "code",
      "source": [],
      "metadata": {
        "id": "3ZzwsvJh33cU"
      },
      "execution_count": null,
      "outputs": []
    }
  ]
}